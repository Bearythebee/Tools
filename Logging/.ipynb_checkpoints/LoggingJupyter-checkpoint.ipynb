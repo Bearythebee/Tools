{
 "cells": [
  {
   "cell_type": "code",
   "execution_count": 1,
   "id": "6bd0d98b-6b49-4233-b04b-8223b8f9629d",
   "metadata": {},
   "outputs": [],
   "source": [
    "from CustomLogging import Logger\n",
    "import warnings, pytz, re, sys, json, io,time\n",
    "from datetime import datetime\n",
    "\n",
    "\n",
    "def get_cell_number():\n",
    "    shell = get_ipython()\n",
    "    if shell:\n",
    "        return shell.execution_count\n",
    "    return -1\n",
    "\n",
    "current_date = datetime.now(pytz.timezone('Asia/Singapore')).strftime('%Y%m%d')\n",
    "logfilename = f\"{current_date}.log\"\n",
    "rootlogger  = Logger()"
   ]
  },
  {
   "cell_type": "code",
   "execution_count": 2,
   "id": "02485430-4c58-4f07-96d5-2a2aa0698cde",
   "metadata": {},
   "outputs": [],
   "source": [
    "from IPython.core.magic import register_cell_magic\n",
    "from IPython.core.magic_arguments import magic_arguments, argument\n",
    "errors = {}\n",
    "\n",
    "def log_print_message(msg):\n",
    "    rootlogger.custom_logs(msg)\n",
    "    print(msg)\n",
    "    \n",
    "@register_cell_magic\n",
    "def log_to_file(line, cell):\n",
    "    if errors:\n",
    "        # print(\"Error in previous cell. Skipping current cell\")\n",
    "        pass\n",
    "    else:\n",
    "        exec_cell_number = get_cell_number()\n",
    "        line = re.sub(\"\\\"|\\'\",\"\",line)\n",
    "        log_print_message(f\"Running cell {exec_cell_number} : *** {line} ***\")\n",
    "        try:\n",
    "            start = datetime.now()\n",
    "            stdout_backup  =sys.stdout\n",
    "            sys.stdout = io.StringIO()\n",
    "            exec(cell, globals())\n",
    "            output = sys.stdout.getvalue()\n",
    "            sys.stdout  = stdout_backup\n",
    "            print(output)\n",
    "            end = datetime.now()\n",
    "        except Exception as e:\n",
    "            rootlogger.log_error(f\"Cell {exec_cell_number} failed with error : {str(e)}\")\n",
    "            errors[line] = e\n",
    "            raise\n",
    "        else:\n",
    "            rootlogger.custom_logs(f\"Cell {exec_cell_number} ran successfully. Time taken {end-start}\")\n",
    "            \n",
    "        "
   ]
  },
  {
   "cell_type": "code",
   "execution_count": 3,
   "id": "01fa6eec-15b8-4599-be77-7074deac08ff",
   "metadata": {},
   "outputs": [
    {
     "name": "stdout",
     "output_type": "stream",
     "text": [
      "Running cell 3 : *** Test_cell_run ***\n",
      "\n"
     ]
    }
   ],
   "source": [
    "%%log_to_file 'Test_cell_run'\n",
    "\n",
    "x = '5'\n",
    "x"
   ]
  },
  {
   "cell_type": "code",
   "execution_count": 4,
   "id": "2ebbeaf4-869d-45a3-aa17-d46908a8222b",
   "metadata": {},
   "outputs": [
    {
     "name": "stdout",
     "output_type": "stream",
     "text": [
      "Running cell 4 : *** Test_cell_run ***\n"
     ]
    },
    {
     "ename": "ZeroDivisionError",
     "evalue": "division by zero",
     "output_type": "error",
     "traceback": [
      "\u001b[1;31m---------------------------------------------------------------------------\u001b[0m",
      "\u001b[1;31mZeroDivisionError\u001b[0m                         Traceback (most recent call last)",
      "Cell \u001b[1;32mIn[4], line 1\u001b[0m\n\u001b[1;32m----> 1\u001b[0m \u001b[43mget_ipython\u001b[49m\u001b[43m(\u001b[49m\u001b[43m)\u001b[49m\u001b[38;5;241;43m.\u001b[39;49m\u001b[43mrun_cell_magic\u001b[49m\u001b[43m(\u001b[49m\u001b[38;5;124;43m'\u001b[39;49m\u001b[38;5;124;43mlog_to_file\u001b[39;49m\u001b[38;5;124;43m'\u001b[39;49m\u001b[43m,\u001b[49m\u001b[43m \u001b[49m\u001b[38;5;124;43m\"\u001b[39;49m\u001b[38;5;124;43m'\u001b[39;49m\u001b[38;5;124;43mTest_cell_run\u001b[39;49m\u001b[38;5;124;43m'\u001b[39;49m\u001b[38;5;124;43m\"\u001b[39;49m\u001b[43m,\u001b[49m\u001b[43m \u001b[49m\u001b[38;5;124;43m'\u001b[39;49m\u001b[38;5;130;43;01m\\n\u001b[39;49;00m\u001b[38;5;124;43m5/0\u001b[39;49m\u001b[38;5;130;43;01m\\n\u001b[39;49;00m\u001b[38;5;124;43m'\u001b[39;49m\u001b[43m)\u001b[49m\n",
      "File \u001b[1;32mc:\\users\\admin\\pycharmprojects\\tools\\venv\\lib\\site-packages\\IPython\\core\\interactiveshell.py:2478\u001b[0m, in \u001b[0;36mInteractiveShell.run_cell_magic\u001b[1;34m(self, magic_name, line, cell)\u001b[0m\n\u001b[0;32m   2476\u001b[0m \u001b[38;5;28;01mwith\u001b[39;00m \u001b[38;5;28mself\u001b[39m\u001b[38;5;241m.\u001b[39mbuiltin_trap:\n\u001b[0;32m   2477\u001b[0m     args \u001b[38;5;241m=\u001b[39m (magic_arg_s, cell)\n\u001b[1;32m-> 2478\u001b[0m     result \u001b[38;5;241m=\u001b[39m \u001b[43mfn\u001b[49m\u001b[43m(\u001b[49m\u001b[38;5;241;43m*\u001b[39;49m\u001b[43margs\u001b[49m\u001b[43m,\u001b[49m\u001b[43m \u001b[49m\u001b[38;5;241;43m*\u001b[39;49m\u001b[38;5;241;43m*\u001b[39;49m\u001b[43mkwargs\u001b[49m\u001b[43m)\u001b[49m\n\u001b[0;32m   2480\u001b[0m \u001b[38;5;66;03m# The code below prevents the output from being displayed\u001b[39;00m\n\u001b[0;32m   2481\u001b[0m \u001b[38;5;66;03m# when using magics with decodator @output_can_be_silenced\u001b[39;00m\n\u001b[0;32m   2482\u001b[0m \u001b[38;5;66;03m# when the last Python token in the expression is a ';'.\u001b[39;00m\n\u001b[0;32m   2483\u001b[0m \u001b[38;5;28;01mif\u001b[39;00m \u001b[38;5;28mgetattr\u001b[39m(fn, magic\u001b[38;5;241m.\u001b[39mMAGIC_OUTPUT_CAN_BE_SILENCED, \u001b[38;5;28;01mFalse\u001b[39;00m):\n",
      "Cell \u001b[1;32mIn[2], line 22\u001b[0m, in \u001b[0;36mlog_to_file\u001b[1;34m(line, cell)\u001b[0m\n\u001b[0;32m     20\u001b[0m stdout_backup  \u001b[38;5;241m=\u001b[39msys\u001b[38;5;241m.\u001b[39mstdout\n\u001b[0;32m     21\u001b[0m sys\u001b[38;5;241m.\u001b[39mstdout \u001b[38;5;241m=\u001b[39m io\u001b[38;5;241m.\u001b[39mStringIO()\n\u001b[1;32m---> 22\u001b[0m \u001b[43mexec\u001b[49m\u001b[43m(\u001b[49m\u001b[43mcell\u001b[49m\u001b[43m,\u001b[49m\u001b[43m \u001b[49m\u001b[38;5;28;43mglobals\u001b[39;49m\u001b[43m(\u001b[49m\u001b[43m)\u001b[49m\u001b[43m)\u001b[49m\n\u001b[0;32m     23\u001b[0m output \u001b[38;5;241m=\u001b[39m sys\u001b[38;5;241m.\u001b[39mstdout\u001b[38;5;241m.\u001b[39mgetvalue()\n\u001b[0;32m     24\u001b[0m sys\u001b[38;5;241m.\u001b[39mstdout  \u001b[38;5;241m=\u001b[39m stdout_backup\n",
      "File \u001b[1;32m<string>:2\u001b[0m\n",
      "\u001b[1;31mZeroDivisionError\u001b[0m: division by zero"
     ]
    }
   ],
   "source": [
    "%%log_to_file 'Test_cell_run'\n",
    "\n",
    "5/0"
   ]
  },
  {
   "cell_type": "code",
   "execution_count": 5,
   "id": "9cb61b66-adf9-4606-9be3-933acd0018f6",
   "metadata": {},
   "outputs": [],
   "source": [
    "%%log_to_file 'Test_cell_run'\n",
    "\n",
    "5/0"
   ]
  },
  {
   "cell_type": "code",
   "execution_count": 6,
   "id": "52fe702f-f0b0-466d-b0ab-24bebd38f895",
   "metadata": {},
   "outputs": [
    {
     "data": {
      "text/plain": [
       "'2023-10-02 17:28:48 LOG Running cell 3 : *** Test_cell_run ***\\n2023-10-02 17:28:48 LOG Cell 3 ran successfully. Time taken 0:00:00\\n2023-10-02 17:28:49 LOG Running cell 4 : *** Test_cell_run ***\\n2023-10-02 17:28:49 ERROR Cell 4 failed with error : division by zero\\n'"
      ]
     },
     "execution_count": 6,
     "metadata": {},
     "output_type": "execute_result"
    }
   ],
   "source": [
    "rootlogger.stream.getvalue()"
   ]
  }
 ],
 "metadata": {
  "kernelspec": {
   "display_name": "Python 3 (ipykernel)",
   "language": "python",
   "name": "python3"
  },
  "language_info": {
   "codemirror_mode": {
    "name": "ipython",
    "version": 3
   },
   "file_extension": ".py",
   "mimetype": "text/x-python",
   "name": "python",
   "nbconvert_exporter": "python",
   "pygments_lexer": "ipython3",
   "version": "3.8.0"
  }
 },
 "nbformat": 4,
 "nbformat_minor": 5
}
